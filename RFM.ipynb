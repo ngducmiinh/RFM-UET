{
  "nbformat": 4,
  "nbformat_minor": 0,
  "metadata": {
    "colab": {
      "provenance": []
    },
    "kernelspec": {
      "name": "python3",
      "display_name": "Python 3"
    },
    "language_info": {
      "name": "python"
    }
  },
  "cells": [
    {
      "cell_type": "markdown",
      "source": [
        " **IMPORT AND SHOW DATA SAMPLE**"
      ],
      "metadata": {
        "id": "S7LMwlTKTUlo"
      }
    },
    {
      "cell_type": "code",
      "execution_count": 28,
      "metadata": {
        "colab": {
          "base_uri": "https://localhost:8080/"
        },
        "id": "lJe-PqKsE2E_",
        "outputId": "7f088ef8-c4e9-4f5b-cba7-8b5e3720c32b"
      },
      "outputs": [
        {
          "output_type": "stream",
          "name": "stderr",
          "text": [
            "<ipython-input-28-dff038ab49db>:2: DtypeWarning: Columns (6) have mixed types. Specify dtype option on import or set low_memory=False.\n",
            "  register = pd.read_csv('Customer_Registered.csv')\n"
          ]
        }
      ],
      "source": [
        "import pandas as pd\n",
        "register = pd.read_csv('Customer_Registered.csv')\n",
        "transaction = pd.read_csv('Customer_Transaction.csv')"
      ]
    },
    {
      "cell_type": "code",
      "source": [
        "print(register.head())"
      ],
      "metadata": {
        "colab": {
          "base_uri": "https://localhost:8080/"
        },
        "id": "4OJoQsuyGqNr",
        "outputId": "08cab567-2f7f-45c6-9ed4-cb04f4c179c1"
      },
      "execution_count": 29,
      "outputs": [
        {
          "output_type": "stream",
          "name": "stdout",
          "text": [
            "   ID   Contract  LocationID  BranchCode  Status created_date    stopdate\n",
            "0   1  SGDN00215         8.0         1.0       0   11/25/2011    1/5/2012\n",
            "1   2  SGDN00214         8.0         1.0       0    6/14/2012         NaN\n",
            "2   3  SGD374348         8.0         1.0       0    11/1/2012         NaN\n",
            "3   4  SGD022064         8.0         1.0       2    6/22/2011   5/29/2013\n",
            "4   5  SGD041015         8.0         5.0       2   12/17/2011  11/11/2014\n"
          ]
        }
      ]
    },
    {
      "cell_type": "code",
      "source": [
        "print(transaction.head())"
      ],
      "metadata": {
        "colab": {
          "base_uri": "https://localhost:8080/"
        },
        "id": "UtkrBJ9pG7u9",
        "outputId": "63e10d54-0fed-4875-9a5a-2f32ab2aaa58"
      },
      "execution_count": 30,
      "outputs": [
        {
          "output_type": "stream",
          "name": "stdout",
          "text": [
            "   Transaction_ID  CustomerID Purchase_Date     GMV\n",
            "0               0     1327813      6/1/2022   95000\n",
            "1               1     1157830      6/1/2022   75000\n",
            "2               2      873915      7/1/2022   95000\n",
            "3               3     3505071      7/1/2022   90000\n",
            "4               4     2930918      7/1/2022  109091\n"
          ]
        }
      ]
    },
    {
      "cell_type": "markdown",
      "source": [
        "**CUSTOMER SEGMENTATION**"
      ],
      "metadata": {
        "id": "-7HnAqpQTmQD"
      }
    },
    {
      "cell_type": "code",
      "source": [
        "transaction['Purchase_Date'] = pd.to_datetime(transaction['Purchase_Date'])\n",
        "\n",
        "valid_customers = register[(register['stopdate'].isna()) & (register['ID'] != 0)]\n",
        "\n",
        "merged_df = pd.merge(valid_customers, transaction, left_on='ID', right_on='CustomerID')\n",
        "\n",
        "reference_date = pd.to_datetime('2022-09-01')\n",
        "\n",
        "rfm = merged_df.groupby('CustomerID').agg({\n",
        "    'Purchase_Date': lambda x: (reference_date - x.max()).days,  # Recency\n",
        "    'Transaction_ID': 'nunique',  # Frequency\n",
        "    'GMV': 'sum'  # Monetary\n",
        "}).reset_index()\n",
        "\n",
        "rfm.columns = ['CustomerID', 'recency', 'frequency', 'monetary']\n",
        "\n",
        "# Calculate R, F, M scores using quartiles\n",
        "rfm['r_quartile'] = pd.qcut(rfm['recency'], 4, labels=False, duplicates='drop') + 1\n",
        "rfm['f_quartile'] = pd.qcut(rfm['frequency'], 4, labels=False, duplicates='drop') + 1\n",
        "rfm['m_quartile'] = pd.qcut(rfm['monetary'], 4, labels=False, duplicates='drop') + 1\n",
        "rfm['f_quartile'] = 5 - rfm['f_quartile']\n",
        "\n",
        "rfm['RFM_Score'] = rfm['r_quartile'].astype(str) + rfm['f_quartile'].astype(str) + rfm['m_quartile'].astype(str)\n",
        "\n",
        "rfm['Date'] = reference_date.strftime('%Y-%m-%d')\n",
        "\n",
        "print(rfm.head())"
      ],
      "metadata": {
        "colab": {
          "base_uri": "https://localhost:8080/"
        },
        "id": "mQaPOOIoHBCK",
        "outputId": "161d7417-d2ee-46fc-a5fc-48663ead18db"
      },
      "execution_count": 31,
      "outputs": [
        {
          "output_type": "stream",
          "name": "stdout",
          "text": [
            "   CustomerID  recency  frequency  monetary  r_quartile  f_quartile  \\\n",
            "0       71739       62          1    105000           2           4   \n",
            "1       72014       62          2    254091           2           4   \n",
            "2       72052       31          1    145000           1           4   \n",
            "3       72657       62          1    200000           2           4   \n",
            "4       74549       62          1    125000           2           4   \n",
            "\n",
            "   m_quartile RFM_Score        Date  \n",
            "0           3       243  2022-09-01  \n",
            "1           4       244  2022-09-01  \n",
            "2           4       144  2022-09-01  \n",
            "3           4       244  2022-09-01  \n",
            "4           4       244  2022-09-01  \n"
          ]
        }
      ]
    },
    {
      "cell_type": "code",
      "source": [
        "scores = rfm['RFM_Score']"
      ],
      "metadata": {
        "id": "KPOfz5gjNln4"
      },
      "execution_count": 32,
      "outputs": []
    },
    {
      "cell_type": "code",
      "source": [
        "print (scores.head())"
      ],
      "metadata": {
        "colab": {
          "base_uri": "https://localhost:8080/"
        },
        "id": "WdBSBV82Ryod",
        "outputId": "4b72cb2c-9428-42f5-9e96-12b9e1b80d3f"
      },
      "execution_count": 33,
      "outputs": [
        {
          "output_type": "stream",
          "name": "stdout",
          "text": [
            "0    243\n",
            "1    244\n",
            "2    144\n",
            "3    244\n",
            "4    244\n",
            "Name: RFM_Score, dtype: object\n"
          ]
        }
      ]
    },
    {
      "cell_type": "code",
      "source": [
        "def classify_customer(rfm_score):\n",
        "    vip = {'444', '443', '343', '344', '333', '334', '244', '243'}\n",
        "    loyal = {'221', '222', '231', '232', '241', '242', '331', '332', '341', '342', '441', '442', '421', '422'}\n",
        "    potential = {'223', '224', '233', '234', '413', '414', '423', '424', '313', '314'}\n",
        "\n",
        "    if rfm_score in vip:\n",
        "        return \"Nhóm khách hàng VIP\"\n",
        "    elif rfm_score in loyal:\n",
        "        return \"Nhóm khách hàng thân thiết\"\n",
        "    elif rfm_score in potential:\n",
        "        return \"Nhóm khách hàng tiềm năng\"\n",
        "    else:\n",
        "        return \"Nhóm khách hàng vãng lai\"\n",
        "\n",
        "BGC_name = rfm['RFM_Score'].apply(classify_customer)\n",
        "\n",
        "print(BGC_name.head())"
      ],
      "metadata": {
        "colab": {
          "base_uri": "https://localhost:8080/"
        },
        "id": "-NmZKOP-NGpc",
        "outputId": "2f7f8075-16db-4823-97f2-17c4d88d91a1"
      },
      "execution_count": 34,
      "outputs": [
        {
          "output_type": "stream",
          "name": "stdout",
          "text": [
            "0         Nhóm khách hàng VIP\n",
            "1         Nhóm khách hàng VIP\n",
            "2    Nhóm khách hàng vãng lai\n",
            "3         Nhóm khách hàng VIP\n",
            "4         Nhóm khách hàng VIP\n",
            "Name: RFM_Score, dtype: object\n"
          ]
        }
      ]
    },
    {
      "cell_type": "markdown",
      "source": [
        "**RATIO & CUMULATIVE SUM OF CUSTOMER**"
      ],
      "metadata": {
        "id": "Bx9V7EGsT3vv"
      }
    },
    {
      "cell_type": "code",
      "source": [
        "rfm_total_users = rfm.groupby('RFM_Score').size().reset_index(name='total_users')\n",
        "\n",
        "rfm_total_users['ID'] = rfm_total_users['total_users'].rank(method='first', ascending=False)\n",
        "\n",
        "rfm_total_users['CumulativeSum'] = rfm_total_users['total_users'].cumsum()\n",
        "\n",
        "# Calculate ratio (%) column\n",
        "total_user_sum = rfm_total_users['total_users'].sum()\n",
        "rfm_total_users['ratio (%)'] = (rfm_total_users['CumulativeSum'] / total_user_sum) * 100\n",
        "rfm_total_users['ratio (%)'] = rfm_total_users['ratio (%)'].round(2)\n",
        "\n",
        "result = rfm_total_users[['RFM_Score', 'total_users', 'CumulativeSum', 'ratio (%)']]\n",
        "\n",
        "print(result)"
      ],
      "metadata": {
        "colab": {
          "base_uri": "https://localhost:8080/"
        },
        "id": "jJrI4fa_R1mh",
        "outputId": "9c7703ec-8463-41d6-ffcb-c28e7a228dfa"
      },
      "execution_count": 35,
      "outputs": [
        {
          "output_type": "stream",
          "name": "stdout",
          "text": [
            "   RFM_Score  total_users  CumulativeSum  ratio (%)\n",
            "0        141        13744          13744      12.05\n",
            "1        142         4648          18392      16.12\n",
            "2        143         9271          27663      24.25\n",
            "3        144        14386          42049      36.86\n",
            "4        241        13743          55792      48.91\n",
            "5        242         4627          60419      52.96\n",
            "6        243         8952          69371      60.81\n",
            "7        244         3673          73044      64.03\n",
            "8        341        18322          91366      80.09\n",
            "9        342         6354          97720      85.66\n",
            "10       343        12085         109805      96.25\n",
            "11       344         4276         114081     100.00\n"
          ]
        }
      ]
    },
    {
      "cell_type": "markdown",
      "source": [
        "**RATIO & CUMULATIVE SUM OF REVENUE**"
      ],
      "metadata": {
        "id": "x54hHwS-USXx"
      }
    },
    {
      "cell_type": "code",
      "source": [
        "rfm_revenue_users = rfm.groupby('RFM_Score')['monetary'].sum().reset_index(name='total_revenue')\n",
        "\n",
        "rfm_revenue_users['ID'] = rfm_revenue_users['total_revenue'].rank(method='first', ascending=False)\n",
        "\n",
        "rfm_revenue_users['CumulativeSum'] = rfm_revenue_users['total_revenue'].cumsum()\n",
        "\n",
        "# Calculate ratio (%) column\n",
        "total_revenue_sum = rfm_revenue_users['total_revenue'].sum()\n",
        "rfm_revenue_users['ratio (%)'] = (rfm_revenue_users['CumulativeSum'] / total_revenue_sum) * 100\n",
        "rfm_revenue_users['ratio (%)'] = rfm_revenue_users['ratio (%)'].round(2)\n",
        "\n",
        "result = rfm_revenue_users[['RFM_Score', 'total_revenue', 'CumulativeSum', 'ratio (%)']]\n",
        "\n",
        "print(result)"
      ],
      "metadata": {
        "colab": {
          "base_uri": "https://localhost:8080/"
        },
        "id": "JHC_37H-UY55",
        "outputId": "e7d13c88-57f0-4d3b-c84f-1c8f2221a70c"
      },
      "execution_count": 36,
      "outputs": [
        {
          "output_type": "stream",
          "name": "stdout",
          "text": [
            "   RFM_Score  total_revenue  CumulativeSum  ratio (%)\n",
            "0        141      973504768      973504768       8.75\n",
            "1        142      392620627     1366125395      12.28\n",
            "2        143      908425181     2274550576      20.45\n",
            "3        144     2480266236     4754816812      42.74\n",
            "4        241      980680368     5735497180      51.56\n",
            "5        242      390906252     6126403432      55.07\n",
            "6        243      877168721     7003572153      62.96\n",
            "7        244      524794709     7528366862      67.68\n",
            "8        341     1313774650     8842141512      79.49\n",
            "9        342      536938514     9379080026      84.31\n",
            "10       343     1184223766    10563303792      94.96\n",
            "11       344      560957406    11124261198     100.00\n"
          ]
        }
      ]
    }
  ]
}